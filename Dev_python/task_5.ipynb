{
 "cells": [
  {
   "cell_type": "code",
   "execution_count": 1,
   "metadata": {},
   "outputs": [
    {
     "data": {
      "text/plain": [
       "5"
      ]
     },
     "execution_count": 1,
     "metadata": {},
     "output_type": "execute_result"
    }
   ],
   "source": [
    "x=5\n",
    "x"
   ]
  },
  {
   "cell_type": "code",
   "execution_count": 3,
   "metadata": {},
   "outputs": [],
   "source": [
    "# Write code here\n",
    "import numpy as np\n"
   ]
  },
  {
   "cell_type": "code",
   "execution_count": 5,
   "metadata": {},
   "outputs": [
    {
     "name": "stdout",
     "output_type": "stream",
     "text": [
      "[[1. 1. 1. 1. 1.]\n",
      " [1. 0. 0. 0. 1.]\n",
      " [1. 0. 0. 0. 1.]\n",
      " [1. 0. 0. 0. 1.]\n",
      " [1. 1. 1. 1. 1.]]\n"
     ]
    }
   ],
   "source": [
    "# Write code here\n",
    "m=np.zeros((5,5))\n",
    "m[0,:]=1\n",
    "m[4,:]=1\n",
    "m[:,0]=1\n",
    "m[:,4]=1\n",
    "print(m)"
   ]
  },
  {
   "cell_type": "code",
   "execution_count": 6,
   "metadata": {},
   "outputs": [
    {
     "name": "stdout",
     "output_type": "stream",
     "text": [
      "[[1 3 3 3 2]\n",
      " [3 1 3 2 3]\n",
      " [3 3 2 3 3]\n",
      " [3 2 3 1 3]\n",
      " [2 3 3 3 1]]\n",
      "5\n"
     ]
    }
   ],
   "source": [
    "# Write code here\n",
    "a=np.full((5,5),3)\n",
    "np.fill_diagonal(a,1)\n",
    "n = a.shape[0] \n",
    "a[np.arange(n), np.arange(n-1, -1, -1)] = 2\n",
    "print(a)\n",
    "print(n)"
   ]
  },
  {
   "cell_type": "code",
   "execution_count": 7,
   "metadata": {},
   "outputs": [
    {
     "name": "stdout",
     "output_type": "stream",
     "text": [
      "[[  5   3 -20]\n",
      " [  3  -6 -10]]\n"
     ]
    }
   ],
   "source": [
    "v1=np.array([5,3])\n",
    "v2=np.array([3,-6])\n",
    "b=np.array([-20,-10])\n",
    "mat1=np.array([v1,v2])\n",
    "b = b.reshape(2, 1)\n",
    "matrix=np.hstack([mat1,b])\n",
    "print(matrix)\n"
   ]
  },
  {
   "cell_type": "code",
   "execution_count": 8,
   "metadata": {},
   "outputs": [
    {
     "name": "stdout",
     "output_type": "stream",
     "text": [
      "[[7 6 8 6 6]\n",
      " [3 7 2 8 4]\n",
      " [4 1 6 2 6]\n",
      " [5 9 7 2 6]\n",
      " [9 8 6 9 3]]\n",
      "[[17 13 16 13 14]\n",
      " [17 19 13 11 12]\n",
      " [19 17 18 15 19]\n",
      " [14 16 11 17 19]\n",
      " [14 16 13 14 13]]\n",
      "total matrix\n",
      "[[ 7  6  8  6  6]\n",
      " [ 3  7  2  8  4]\n",
      " [ 4  1  6  2  6]\n",
      " [ 5  9  7  2  6]\n",
      " [ 9  8  6  9  3]\n",
      " [17 13 16 13 14]\n",
      " [17 19 13 11 12]\n",
      " [19 17 18 15 19]\n",
      " [14 16 11 17 19]\n",
      " [14 16 13 14 13]]\n"
     ]
    }
   ],
   "source": [
    "# write the code here\n",
    "amtrix1=np.random.randint(1,10,(5,5))\n",
    "matrix2=np.random.randint(11,20,(5,5))\n",
    "print(amtrix1)\n",
    "print(matrix2)\n",
    "print('total matrix')  \n",
    "tolal=np.vstack([amtrix1,matrix2])    \n",
    "print(tolal)    "
   ]
  },
  {
   "cell_type": "code",
   "execution_count": 11,
   "metadata": {},
   "outputs": [
    {
     "data": {
      "text/plain": [
       "3"
      ]
     },
     "execution_count": 11,
     "metadata": {},
     "output_type": "execute_result"
    }
   ],
   "source": [
    "x=3\n",
    "x\n",
    "\n"
   ]
  },
  {
   "cell_type": "code",
   "execution_count": null,
   "metadata": {},
   "outputs": [],
   "source": []
  }
 ],
 "metadata": {
  "kernelspec": {
   "display_name": "Python 3",
   "language": "python",
   "name": "python3"
  },
  "language_info": {
   "codemirror_mode": {
    "name": "ipython",
    "version": 3
   },
   "file_extension": ".py",
   "mimetype": "text/x-python",
   "name": "python",
   "nbconvert_exporter": "python",
   "pygments_lexer": "ipython3",
   "version": "3.12.4"
  }
 },
 "nbformat": 4,
 "nbformat_minor": 2
}
