{
 "cells": [
  {
   "cell_type": "code",
   "execution_count": 1,
   "metadata": {},
   "outputs": [
    {
     "name": "stdout",
     "output_type": "stream",
     "text": [
      "1.add\n",
      "2.sub\n",
      "3.mul\n",
      "4.div\n",
      "the result is:37.5\n"
     ]
    }
   ],
   "source": [
    "def add (a,b):\n",
    "    return a+b\n",
    "def sum (a,b):\n",
    "    return a-b\n",
    "def mul (a,b):\n",
    "    returna*b\n",
    "def div (a,b):\n",
    "    return a/b\n",
    "firist_num=float(input(\"enter the firist number:\"))\n",
    "secound_num=float(input(\"enter the secound num:\"))\n",
    "print(\"1.add\")\n",
    "print(\"2.sub\")\n",
    "print(\"3.mul\")\n",
    "print(\"4.div\")\n",
    "operation_num=int(input(\"enter the operation number:\"))\n",
    "if operation_num==1:\n",
    "    print(f\"the result is:{add(firist_num,secound_num)}\")\n",
    "elif operation_num==2:\n",
    "    print(f\"the result is:{sum(firist_num,secound_num)}\")\n",
    "elif operation_num==3:\n",
    "    print(f\"the result is:{mul(firist_num,secound_num)}\")\n",
    "elif operation_num==4:\n",
    "    print(f\"the result is: {div(firist_num,secound_num)}\")\n",
    "else:\n",
    "    print(\"invalid operation number\")\n",
    "    "
   ]
  },
  {
   "cell_type": "code",
   "execution_count": null,
   "metadata": {},
   "outputs": [],
   "source": []
  }
 ],
 "metadata": {
  "kernelspec": {
   "display_name": "Python 3",
   "language": "python",
   "name": "python3"
  },
  "language_info": {
   "codemirror_mode": {
    "name": "ipython",
    "version": 3
   },
   "file_extension": ".py",
   "mimetype": "text/x-python",
   "name": "python",
   "nbconvert_exporter": "python",
   "pygments_lexer": "ipython3",
   "version": "3.12.4"
  }
 },
 "nbformat": 4,
 "nbformat_minor": 2
}
