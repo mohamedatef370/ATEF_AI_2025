{
 "cells": [
  {
   "cell_type": "code",
   "execution_count": 3,
   "metadata": {},
   "outputs": [
    {
     "data": {
      "text/plain": [
       "5"
      ]
     },
     "execution_count": 3,
     "metadata": {},
     "output_type": "execute_result"
    }
   ],
   "source": [
    "x=5\n",
    "x\n"
   ]
  },
  {
   "cell_type": "code",
   "execution_count": null,
   "metadata": {},
   "outputs": [
    {
     "name": "stdout",
     "output_type": "stream",
     "text": [
      "[1, 2, 3, 4, 0, 'learning', True, ['ml', 'dl', 'ds']]\n"
     ]
    }
   ],
   "source": [
    "list_one=[1,2,3,4,\"amit\",\"learning\",True,[\"ml\",\"dl\",\"ds\"]]\n",
    "list_one[4]=0\n",
    "print(list_one)\n",
    "x=list_one.pop()\n",
    "x"
   ]
  },
  {
   "cell_type": "code",
   "execution_count": 7,
   "metadata": {},
   "outputs": [
    {
     "data": {
      "text/plain": [
       "['a', 'm', 'i', 't']"
      ]
     },
     "execution_count": 7,
     "metadata": {},
     "output_type": "execute_result"
    }
   ],
   "source": [
    "y=list(\"amit\")\n",
    "y"
   ]
  },
  {
   "cell_type": "code",
   "execution_count": null,
   "metadata": {},
   "outputs": [
    {
     "data": {
      "text/plain": [
       "[['zaq', 'zaq'], 'mo', 'atef', ['012'], ['29'], ['egy'], 'm']"
      ]
     },
     "execution_count": 33,
     "metadata": {},
     "output_type": "execute_result"
    }
   ],
   "source": [
    "info=[\"mo\",\"atef\"]\n",
    "num=[\"012\"]\n",
    "age=[\"29\"]\n",
    "national=[\"egy\"]\n",
    "info.append(num)\n",
    "info.append(age)\n",
    "info.append(national)\n",
    "name=[\"m\",\"o\"]\n",
    "info.extend(name)\n",
    "z=[\"zaq\",\"zaq\"]\n",
    "info.insert(0,z)\n",
    "info.pop()\n",
    "info\n",
    "\n"
   ]
  },
  {
   "cell_type": "code",
   "execution_count": 2,
   "metadata": {},
   "outputs": [
    {
     "name": "stdout",
     "output_type": "stream",
     "text": [
      "['learning', 'python']\n"
     ]
    }
   ],
   "source": [
    "list_one=[\"amit\",\"learning\",\"python\"]\n",
    "del list_one[0]\n",
    "print(list_one)\n"
   ]
  },
  {
   "cell_type": "code",
   "execution_count": 70,
   "metadata": {},
   "outputs": [
    {
     "name": "stdout",
     "output_type": "stream",
     "text": [
      "mohamedatef\n",
      "sum:120.0\n",
      "mul:2000.0\n",
      "sub:80.0\n",
      "div:5.0\n"
     ]
    }
   ],
   "source": [
    "num1=float(input('inter firist num'))\n",
    "num2=float(input('insert secound num'))\n",
    "\n",
    "print(\"mohamedatef\")\n",
    "print(f\"sum:{num1+num2}\")\n",
    "print(f\"mul:{num1*num2}\")\n",
    "print(f\"sub:{num1-num2}\")\n",
    "print(f\"div:{num1/num2}\")\n"
   ]
  },
  {
   "cell_type": "code",
   "execution_count": 55,
   "metadata": {},
   "outputs": [
    {
     "data": {
      "text/plain": [
       "{'ai', 'amit'}"
      ]
     },
     "execution_count": 55,
     "metadata": {},
     "output_type": "execute_result"
    }
   ],
   "source": [
    "set1={\"amit\",\"ai\"}\n",
    "y=set(set1)\n",
    "y\n"
   ]
  },
  {
   "cell_type": "code",
   "execution_count": 62,
   "metadata": {},
   "outputs": [
    {
     "name": "stdout",
     "output_type": "stream",
     "text": [
      "value\n"
     ]
    }
   ],
   "source": [
    "dictionary_one={\"k1\":12.5,\"k2\":\"value\",\"k3\":\"value2\",4:[1,2,3,4,5]}\n",
    "print(dictionary_one[\"k2\"])"
   ]
  },
  {
   "cell_type": "code",
   "execution_count": 71,
   "metadata": {},
   "outputs": [
    {
     "name": "stdout",
     "output_type": "stream",
     "text": [
      "a is greater\n"
     ]
    }
   ],
   "source": [
    "a=200\n",
    "b=33\n",
    "if b>a:\n",
    "    print(\"b is greater\")\n",
    "elif a==b:\n",
    "    print(\"equal\")\n",
    "else:\n",
    "    print(\"a is greater\")\n",
    "    "
   ]
  },
  {
   "cell_type": "code",
   "execution_count": 78,
   "metadata": {},
   "outputs": [
    {
     "name": "stdout",
     "output_type": "stream",
     "text": [
      "both are positive\n"
     ]
    }
   ],
   "source": [
    "x=5\n",
    "y=10\n",
    "if (x > 0) and (y > 0):\n",
    "    print(\"both are positive\")"
   ]
  },
  {
   "cell_type": "code",
   "execution_count": 79,
   "metadata": {},
   "outputs": [
    {
     "name": "stdout",
     "output_type": "stream",
     "text": [
      "asa\n"
     ]
    }
   ],
   "source": [
    "age=15\n",
    "if (age <18) or (age>=65):\n",
    "    print(\"asa\")"
   ]
  },
  {
   "cell_type": "code",
   "execution_count": 87,
   "metadata": {},
   "outputs": [
    {
     "name": "stdout",
     "output_type": "stream",
     "text": [
      "not valid\n"
     ]
    }
   ],
   "source": [
    "degree=float(input('inter student degree'))\n",
    "\n",
    "if (degree>90) and (degree<100):\n",
    "    print(\"a\")\n",
    "elif (degree>80) and (degree<90):\n",
    "    print(\"b\")\n",
    "elif (degree>70) and (degree<80):\n",
    "    print(\"c\")\n",
    "elif (degree>60) and (degree<70):\n",
    "    print(\"d\")\n",
    "elif (degree>0) and (degree<60):\n",
    "    print(\"f\")\n",
    "else:\n",
    "    print(\"not valid\")\n",
    "    \n",
    "\n",
    "    "
   ]
  },
  {
   "cell_type": "code",
   "execution_count": 94,
   "metadata": {},
   "outputs": [
    {
     "name": "stdout",
     "output_type": "stream",
     "text": [
      "not reem\n"
     ]
    }
   ],
   "source": [
    "x=float(input(\"please insert the date\"))\n",
    "if x==(551996):\n",
    "    print(\"HPD Reemo\") \n",
    "else:\n",
    "    print(\"not reem\") \n"
   ]
  },
  {
   "cell_type": "code",
   "execution_count": 99,
   "metadata": {},
   "outputs": [
    {
     "name": "stdout",
     "output_type": "stream",
     "text": [
      "out put = ['a', 'b', 'c', 'd']\n"
     ]
    }
   ],
   "source": [
    "x=[\"a\",\"b\",\"c\",\"d\",\"5\"]\n",
    "item=input(\"enter the value\")\n",
    "x.remove(item)\n",
    "print(f\"out put = {x}\")"
   ]
  },
  {
   "cell_type": "code",
   "execution_count": null,
   "metadata": {},
   "outputs": [
    {
     "name": "stdout",
     "output_type": "stream",
     "text": [
      "<class 'list'>\n",
      "['d', 'f', 'g', 'h', 'n']\n"
     ]
    }
   ],
   "source": [
    "mail=list(input(\"enter your mail\"))\n",
    "if (\"@\" in mail):\n",
    "    print()\n",
    "\n",
    "print(type(mail))\n",
    "print(mail)"
   ]
  },
  {
   "cell_type": "code",
   "execution_count": 10,
   "metadata": {},
   "outputs": [
    {
     "data": {
      "text/plain": [
       "'my name is ali \\n and age is 14 \\n and salary is 10000 '"
      ]
     },
     "execution_count": 10,
     "metadata": {},
     "output_type": "execute_result"
    }
   ],
   "source": [
    "name=\"ali\"\n",
    "age=14\n",
    "salary=10000\n",
    "\n",
    "s=\"my name is {} \\n and age is {} \\n and salary is {} \".format(name,age,salary)\n",
    "s"
   ]
  },
  {
   "cell_type": "code",
   "execution_count": 13,
   "metadata": {},
   "outputs": [
    {
     "name": "stdout",
     "output_type": "stream",
     "text": [
      "welcome\n",
      "welcome\n",
      "welcome\n",
      "welcome\n",
      "done\n"
     ]
    }
   ],
   "source": [
    "for x in \"amit\":\n",
    "    print(\"welcome\")\n",
    "else:\n",
    "    print(\"done\")"
   ]
  },
  {
   "cell_type": "code",
   "execution_count": 23,
   "metadata": {},
   "outputs": [
    {
     "name": "stdout",
     "output_type": "stream",
     "text": [
      "0\n",
      "1\n",
      "2\n",
      "three\n",
      "4\n",
      "5\n"
     ]
    }
   ],
   "source": [
    "for i in range(6):\n",
    "    if i==3:\n",
    "        print(\"three\")\n",
    "        continue\n",
    "      \n",
    "    print(i)"
   ]
  },
  {
   "cell_type": "code",
   "execution_count": 24,
   "metadata": {},
   "outputs": [
    {
     "name": "stdout",
     "output_type": "stream",
     "text": [
      "mody\n",
      "mody\n",
      "mody\n",
      "mody\n",
      "mody\n",
      "mody\n",
      "mody\n",
      "mody\n"
     ]
    }
   ],
   "source": [
    "x=10\n",
    "while x>2:\n",
    "    print(\"mody\")\n",
    "    x-=1\n",
    "    "
   ]
  },
  {
   "cell_type": "code",
   "execution_count": 44,
   "metadata": {},
   "outputs": [
    {
     "name": "stdout",
     "output_type": "stream",
     "text": [
      "<function calc at 0x0000023DFD8D5BC0>\n"
     ]
    }
   ],
   "source": [
    "\n",
    "num1=float(input(\"enter num1\"))\n",
    "num2=float(input(\"enter num2\"))\n",
    "def calc(num1,num2):\n",
    "  z=num1+num2\n",
    "  return z\n",
    "print(calc)\n",
    "  \n"
   ]
  },
  {
   "cell_type": "code",
   "execution_count": 36,
   "metadata": {},
   "outputs": [
    {
     "name": "stdout",
     "output_type": "stream",
     "text": [
      "first num is 4 and secound num is 5\n"
     ]
    }
   ],
   "source": [
    "def function1 (x,y):\n",
    "    print(f\"first num is {x} and secound num is {y}\")\n",
    "    \n",
    "function1(4,5)\n"
   ]
  },
  {
   "cell_type": "code",
   "execution_count": 47,
   "metadata": {},
   "outputs": [
    {
     "name": "stdout",
     "output_type": "stream",
     "text": [
      "[9, 8, 7, 6, 5, 4, 3, 2, 1, 0]\n",
      "[6, 5, 4, 3]\n"
     ]
    }
   ],
   "source": [
    "my_list = [0, 1, 2, 3, 4, 5, 6, 7, 8, 9]\n",
    "\n",
    "# عكس القائمة\n",
    "print(my_list[::-1])  # النتيجة: [9, 8, 7, 6, 5, 4, 3, 2, 1, 0]\n",
    "\n",
    "# استخراج العناصر من الفهرس 6 إلى الفهرس 2 (بخطوة سالبة)\n",
    "print(my_list[6:2:-1])  # النتيجة: [6, 5, 4, 3]\n"
   ]
  },
  {
   "cell_type": "code",
   "execution_count": 52,
   "metadata": {},
   "outputs": [
    {
     "name": "stdout",
     "output_type": "stream",
     "text": [
      "1\n"
     ]
    }
   ],
   "source": [
    "x=input(\"enter your email\")\n",
    "y=x.find(\"@\")\n",
    "print(y)"
   ]
  },
  {
   "cell_type": "code",
   "execution_count": null,
   "metadata": {},
   "outputs": [
    {
     "name": "stdout",
     "output_type": "stream",
     "text": [
      "valid mail\n",
      "mohamedatef370\n",
      "gmail\n",
      "commercial domain\n"
     ]
    }
   ],
   "source": [
    "mail=input(\"enter your mail\")\n",
    "if (\"@\" in mail) and (\".\" in mail) and mail.index(\"@\")<mail.index(\".\"):\n",
    "    print (\"valid mail\") \n",
    "    print (mail[:mail.index(\"@\")])\n",
    "    print (mail[mail.index(\"@\")+1:mail.index(\".\")])\n",
    "    if (mail[mail.index(\".\")+1:]==\"com\"):\n",
    "        print(\"commercial domain\")\n",
    "    elif(mail[mail.index(\".\")+1:]==\"edu\"):\n",
    "        print(\"educational domain\")\n",
    "    else:\n",
    "        print (\"other domain\")\n",
    "        \n",
    "else:\n",
    "     print(\"invalid mail\")\n",
    "    \n",
    "\n"
   ]
  },
  {
   "cell_type": "code",
   "execution_count": null,
   "metadata": {},
   "outputs": [
    {
     "name": "stdout",
     "output_type": "stream",
     "text": [
      "min is : 6\n"
     ]
    }
   ],
   "source": [
    "x=[500,8,96,6,58,258,32,25,65]\n",
    "min=x[0]\n",
    "for num in x:\n",
    "    if (num<min):\n",
    "        min=num\n",
    "       \n",
    "print(f\"min is : {min}\")"
   ]
  },
  {
   "cell_type": "code",
   "execution_count": 19,
   "metadata": {},
   "outputs": [
    {
     "name": "stdout",
     "output_type": "stream",
     "text": [
      "total is :1048\n"
     ]
    }
   ],
   "source": [
    "x=[500,8,96,6,58,258,32,25,65]\n",
    "total=0\n",
    "for num in x:\n",
    "    total=total+num\n",
    "print(f\"total is :{total}\")"
   ]
  },
  {
   "cell_type": "code",
   "execution_count": 21,
   "metadata": {},
   "outputs": [
    {
     "name": "stdout",
     "output_type": "stream",
     "text": [
      "['muhammad', 'atef', 'mohamed', 'my']\n"
     ]
    }
   ],
   "source": [
    "tuple1=(\"my\",\"mohamed\",\"atef\",\"muhammad\")\n",
    "list1=list(tuple1)\n",
    "revers_list=list1[-1::-1]\n",
    "revers_tuple=tuple(revers_list)\n",
    "print(revers_list)"
   ]
  },
  {
   "cell_type": "code",
   "execution_count": 28,
   "metadata": {},
   "outputs": [
    {
     "name": "stdout",
     "output_type": "stream",
     "text": [
      "(1, 2)\n",
      "('m', 'o', 'h', 'a', 'm', 'e', 'd')\n",
      "(3, 4)\n",
      "(4, 5, 6)\n"
     ]
    }
   ],
   "source": [
    "listed_tuples=[(1,2),(\"mohamed\"),(3,4),(4,5,6)]\n",
    "for tuples in listed_tuples:\n",
    "    out_tuple=tuple(tuples)\n",
    "    print(out_tuple)"
   ]
  },
  {
   "cell_type": "code",
   "execution_count": 31,
   "metadata": {},
   "outputs": [
    {
     "name": "stdout",
     "output_type": "stream",
     "text": [
      "16\n"
     ]
    }
   ],
   "source": [
    "def square(x):\n",
    "    return x ** 2\n",
    "print(square(4))"
   ]
  },
  {
   "cell_type": "code",
   "execution_count": 33,
   "metadata": {},
   "outputs": [
    {
     "name": "stdout",
     "output_type": "stream",
     "text": [
      "64\n"
     ]
    }
   ],
   "source": [
    "z=lambda x:x**2\n",
    "print(z(8))"
   ]
  },
  {
   "cell_type": "code",
   "execution_count": null,
   "metadata": {},
   "outputs": [
    {
     "name": "stdout",
     "output_type": "stream",
     "text": [
      "22\n"
     ]
    }
   ],
   "source": [
    "def function_1(n):\n",
    "    return lambda a:a*n\n",
    "function_2=function_1(2)\n",
    "print(function_2(11))"
   ]
  },
  {
   "cell_type": "code",
   "execution_count": 43,
   "metadata": {},
   "outputs": [
    {
     "name": "stdout",
     "output_type": "stream",
     "text": [
      "1is odd\n",
      "2is even\n",
      "3is odd\n",
      "4is even\n",
      "5is odd\n",
      "6is even\n",
      "7is odd\n",
      "8is even\n",
      "9is odd\n",
      "10is even\n"
     ]
    }
   ],
   "source": [
    "list1=[1,2,3,4,5,6,7,8,9,10]\n",
    "def even_and_odd_detector(list1):\n",
    "    return \n",
    "for num in list1:\n",
    "        if num % 2!=0:\n",
    "            print(f\"{num}is odd\")\n",
    "        else:\n",
    "            print(f\"{num}is even\") "
   ]
  },
  {
   "cell_type": "code",
   "execution_count": 45,
   "metadata": {},
   "outputs": [
    {
     "name": "stdout",
     "output_type": "stream",
     "text": [
      "3628800\n"
     ]
    }
   ],
   "source": [
    "list1=[1,2,3,4,5,6,7,8,9,10]\n",
    "list_sum=1\n",
    "for num in list1:\n",
    "    list_sum=list_sum*num\n",
    "print(list_sum)"
   ]
  },
  {
   "cell_type": "code",
   "execution_count": null,
   "metadata": {},
   "outputs": [],
   "source": [
    "list1=[1,2,3,4,5,6,7,8,9,10]\n",
    "def list_mul(list1):\n",
    "    x=1\n",
    "    for num in list1:\n",
    "        x=x*num\n",
    "        return x\n",
    "print(list_mul(list1))"
   ]
  },
  {
   "cell_type": "code",
   "execution_count": 52,
   "metadata": {},
   "outputs": [
    {
     "name": "stdout",
     "output_type": "stream",
     "text": [
      "15\n"
     ]
    }
   ],
   "source": [
    "def fun (x):\n",
    "    if x<=1:\n",
    "        return x\n",
    "    return x+fun(x-1)\n",
    "print(fun(5))\n"
   ]
  },
  {
   "cell_type": "code",
   "execution_count": null,
   "metadata": {},
   "outputs": [],
   "source": []
  }
 ],
 "metadata": {
  "kernelspec": {
   "display_name": "Python 3",
   "language": "python",
   "name": "python3"
  },
  "language_info": {
   "codemirror_mode": {
    "name": "ipython",
    "version": 3
   },
   "file_extension": ".py",
   "mimetype": "text/x-python",
   "name": "python",
   "nbconvert_exporter": "python",
   "pygments_lexer": "ipython3",
   "version": "3.12.4"
  }
 },
 "nbformat": 4,
 "nbformat_minor": 2
}
