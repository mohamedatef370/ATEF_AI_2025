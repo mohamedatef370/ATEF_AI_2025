{
 "cells": [
  {
   "cell_type": "code",
   "execution_count": 3,
   "metadata": {},
   "outputs": [
    {
     "data": {
      "text/plain": [
       "5"
      ]
     },
     "execution_count": 3,
     "metadata": {},
     "output_type": "execute_result"
    }
   ],
   "source": [
    "x=5\n",
    "x\n"
   ]
  },
  {
   "cell_type": "code",
   "execution_count": null,
   "metadata": {},
   "outputs": [
    {
     "name": "stdout",
     "output_type": "stream",
     "text": [
      "[1, 2, 3, 4, 0, 'learning', True, ['ml', 'dl', 'ds']]\n"
     ]
    }
   ],
   "source": [
    "list_one=[1,2,3,4,\"amit\",\"learning\",True,[\"ml\",\"dl\",\"ds\"]]\n",
    "list_one[4]=0\n",
    "print(list_one)\n",
    "x=list_one.pop()\n",
    "x"
   ]
  },
  {
   "cell_type": "code",
   "execution_count": 7,
   "metadata": {},
   "outputs": [
    {
     "data": {
      "text/plain": [
       "['a', 'm', 'i', 't']"
      ]
     },
     "execution_count": 7,
     "metadata": {},
     "output_type": "execute_result"
    }
   ],
   "source": [
    "y=list(\"amit\")\n",
    "y"
   ]
  },
  {
   "cell_type": "code",
   "execution_count": null,
   "metadata": {},
   "outputs": [
    {
     "data": {
      "text/plain": [
       "[['zaq', 'zaq'], 'mo', 'atef', ['012'], ['29'], ['egy'], 'm']"
      ]
     },
     "execution_count": 33,
     "metadata": {},
     "output_type": "execute_result"
    }
   ],
   "source": [
    "info=[\"mo\",\"atef\"]\n",
    "num=[\"012\"]\n",
    "age=[\"29\"]\n",
    "national=[\"egy\"]\n",
    "info.append(num)\n",
    "info.append(age)\n",
    "info.append(national)\n",
    "name=[\"m\",\"o\"]\n",
    "info.extend(name)\n",
    "z=[\"zaq\",\"zaq\"]\n",
    "info.insert(0,z)\n",
    "info.pop()\n",
    "info\n",
    "\n"
   ]
  },
  {
   "cell_type": "code",
   "execution_count": 2,
   "metadata": {},
   "outputs": [
    {
     "name": "stdout",
     "output_type": "stream",
     "text": [
      "['learning', 'python']\n"
     ]
    }
   ],
   "source": [
    "list_one=[\"amit\",\"learning\",\"python\"]\n",
    "del list_one[0]\n",
    "print(list_one)\n"
   ]
  },
  {
   "cell_type": "code",
   "execution_count": 70,
   "metadata": {},
   "outputs": [
    {
     "name": "stdout",
     "output_type": "stream",
     "text": [
      "mohamedatef\n",
      "sum:120.0\n",
      "mul:2000.0\n",
      "sub:80.0\n",
      "div:5.0\n"
     ]
    }
   ],
   "source": [
    "num1=float(input('inter firist num'))\n",
    "num2=float(input('insert secound num'))\n",
    "\n",
    "print(\"mohamedatef\")\n",
    "print(f\"sum:{num1+num2}\")\n",
    "print(f\"mul:{num1*num2}\")\n",
    "print(f\"sub:{num1-num2}\")\n",
    "print(f\"div:{num1/num2}\")\n"
   ]
  },
  {
   "cell_type": "code",
   "execution_count": 55,
   "metadata": {},
   "outputs": [
    {
     "data": {
      "text/plain": [
       "{'ai', 'amit'}"
      ]
     },
     "execution_count": 55,
     "metadata": {},
     "output_type": "execute_result"
    }
   ],
   "source": [
    "set1={\"amit\",\"ai\"}\n",
    "y=set(set1)\n",
    "y\n"
   ]
  },
  {
   "cell_type": "code",
   "execution_count": 62,
   "metadata": {},
   "outputs": [
    {
     "name": "stdout",
     "output_type": "stream",
     "text": [
      "value\n"
     ]
    }
   ],
   "source": [
    "dictionary_one={\"k1\":12.5,\"k2\":\"value\",\"k3\":\"value2\",4:[1,2,3,4,5]}\n",
    "print(dictionary_one[\"k2\"])"
   ]
  },
  {
   "cell_type": "code",
   "execution_count": 71,
   "metadata": {},
   "outputs": [
    {
     "name": "stdout",
     "output_type": "stream",
     "text": [
      "a is greater\n"
     ]
    }
   ],
   "source": [
    "a=200\n",
    "b=33\n",
    "if b>a:\n",
    "    print(\"b is greater\")\n",
    "elif a==b:\n",
    "    print(\"equal\")\n",
    "else:\n",
    "    print(\"a is greater\")\n",
    "    "
   ]
  },
  {
   "cell_type": "code",
   "execution_count": 78,
   "metadata": {},
   "outputs": [
    {
     "name": "stdout",
     "output_type": "stream",
     "text": [
      "both are positive\n"
     ]
    }
   ],
   "source": [
    "x=5\n",
    "y=10\n",
    "if (x > 0) and (y > 0):\n",
    "    print(\"both are positive\")"
   ]
  },
  {
   "cell_type": "code",
   "execution_count": 79,
   "metadata": {},
   "outputs": [
    {
     "name": "stdout",
     "output_type": "stream",
     "text": [
      "asa\n"
     ]
    }
   ],
   "source": [
    "age=15\n",
    "if (age <18) or (age>=65):\n",
    "    print(\"asa\")"
   ]
  },
  {
   "cell_type": "code",
   "execution_count": 87,
   "metadata": {},
   "outputs": [
    {
     "name": "stdout",
     "output_type": "stream",
     "text": [
      "not valid\n"
     ]
    }
   ],
   "source": [
    "degree=float(input('inter student degree'))\n",
    "\n",
    "if (degree>90) and (degree<100):\n",
    "    print(\"a\")\n",
    "elif (degree>80) and (degree<90):\n",
    "    print(\"b\")\n",
    "elif (degree>70) and (degree<80):\n",
    "    print(\"c\")\n",
    "elif (degree>60) and (degree<70):\n",
    "    print(\"d\")\n",
    "elif (degree>0) and (degree<60):\n",
    "    print(\"f\")\n",
    "else:\n",
    "    print(\"not valid\")\n",
    "    \n",
    "\n",
    "    "
   ]
  },
  {
   "cell_type": "code",
   "execution_count": 94,
   "metadata": {},
   "outputs": [
    {
     "name": "stdout",
     "output_type": "stream",
     "text": [
      "not reem\n"
     ]
    }
   ],
   "source": [
    "x=float(input(\"please insert the date\"))\n",
    "if x==(551996):\n",
    "    print(\"HPD Reemo\") \n",
    "else:\n",
    "    print(\"not reem\") \n"
   ]
  },
  {
   "cell_type": "code",
   "execution_count": 99,
   "metadata": {},
   "outputs": [
    {
     "name": "stdout",
     "output_type": "stream",
     "text": [
      "out put = ['a', 'b', 'c', 'd']\n"
     ]
    }
   ],
   "source": [
    "x=[\"a\",\"b\",\"c\",\"d\",\"5\"]\n",
    "item=input(\"enter the value\")\n",
    "x.remove(item)\n",
    "print(f\"out put = {x}\")"
   ]
  },
  {
   "cell_type": "code",
   "execution_count": null,
   "metadata": {},
   "outputs": [
    {
     "name": "stdout",
     "output_type": "stream",
     "text": [
      "<class 'list'>\n",
      "['d', 'f', 'g', 'h', 'n']\n"
     ]
    }
   ],
   "source": [
    "mail=list(input(\"enter your mail\"))\n",
    "if (\"@\" in mail):\n",
    "    print()\n",
    "\n",
    "print(type(mail))\n",
    "print(mail)"
   ]
  },
  {
   "cell_type": "code",
   "execution_count": 10,
   "metadata": {},
   "outputs": [
    {
     "data": {
      "text/plain": [
       "'my name is ali \\n and age is 14 \\n and salary is 10000 '"
      ]
     },
     "execution_count": 10,
     "metadata": {},
     "output_type": "execute_result"
    }
   ],
   "source": [
    "name=\"ali\"\n",
    "age=14\n",
    "salary=10000\n",
    "\n",
    "s=\"my name is {} \\n and age is {} \\n and salary is {} \".format(name,age,salary)\n",
    "s"
   ]
  },
  {
   "cell_type": "code",
   "execution_count": null,
   "metadata": {},
   "outputs": [],
   "source": []
  }
 ],
 "metadata": {
  "kernelspec": {
   "display_name": "Python 3",
   "language": "python",
   "name": "python3"
  },
  "language_info": {
   "codemirror_mode": {
    "name": "ipython",
    "version": 3
   },
   "file_extension": ".py",
   "mimetype": "text/x-python",
   "name": "python",
   "nbconvert_exporter": "python",
   "pygments_lexer": "ipython3",
   "version": "3.12.4"
  }
 },
 "nbformat": 4,
 "nbformat_minor": 2
}
