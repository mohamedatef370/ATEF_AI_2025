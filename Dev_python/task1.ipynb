{
 "cells": [
  {
   "cell_type": "code",
   "execution_count": 1,
   "metadata": {},
   "outputs": [
    {
     "name": "stdout",
     "output_type": "stream",
     "text": [
      "valid mail\n",
      "moatef370\n",
      "gmail\n",
      "commercial domain\n"
     ]
    }
   ],
   "source": [
    "mail=input(\"enter your mail\")\n",
    "if (\"@\" in mail) and (\".\" in mail) and mail.index(\"@\")<mail.index(\".\"):\n",
    "    print (\"valid mail\") \n",
    "    print (mail[:mail.index(\"@\")])\n",
    "    print (mail[mail.index(\"@\")+1:mail.index(\".\")])\n",
    "    if (mail[mail.index(\".\")+1:]==\"com\"):\n",
    "        print(\"commercial domain\")\n",
    "    elif(mail[mail.index(\".\")+1:]==\"edu\"):\n",
    "        print(\"educational domain\")\n",
    "    else:\n",
    "        print (\"other domain\")\n",
    "        \n",
    "else:\n",
    "     print(\"invalid mail\")\n",
    "    \n"
   ]
  },
  {
   "cell_type": "code",
   "execution_count": 2,
   "metadata": {},
   "outputs": [
    {
     "name": "stdout",
     "output_type": "stream",
     "text": [
      "min is : 6\n"
     ]
    }
   ],
   "source": [
    "x=[500,8,96,6,58,258,32,25,65]\n",
    "min=x[0]\n",
    "for num in x:\n",
    "    if (num<min):\n",
    "        min=num\n",
    "       \n",
    "print(f\"min is : {min}\")"
   ]
  },
  {
   "cell_type": "code",
   "execution_count": 3,
   "metadata": {},
   "outputs": [
    {
     "name": "stdout",
     "output_type": "stream",
     "text": [
      "total is :1048\n"
     ]
    }
   ],
   "source": [
    "x=[500,8,96,6,58,258,32,25,65]\n",
    "total=0\n",
    "for num in x:\n",
    "    total=total+num\n",
    "print(f\"total is :{total}\")"
   ]
  },
  {
   "cell_type": "code",
   "execution_count": 4,
   "metadata": {},
   "outputs": [
    {
     "name": "stdout",
     "output_type": "stream",
     "text": [
      "['muhammad', 'atef', 'mohamed', 'my']\n"
     ]
    }
   ],
   "source": [
    "tuple1=(\"my\",\"mohamed\",\"atef\",\"muhammad\")\n",
    "list1=list(tuple1)\n",
    "revers_list=list1[-1::-1]\n",
    "revers_tuple=tuple(revers_list)\n",
    "print(revers_list)"
   ]
  },
  {
   "cell_type": "code",
   "execution_count": null,
   "metadata": {},
   "outputs": [
    {
     "name": "stdout",
     "output_type": "stream",
     "text": [
      "(1, 2)\n",
      "('m', 'o', 'h', 'a', 'm', 'e', 'd')\n",
      "(3, 4)\n",
      "(4, 5, 6)\n"
     ]
    }
   ],
   "source": [
    "listed_tuples=[(1,2),(\"mohamed\"),(3,4),(4,5,6)]\n",
    "for tuples in listed_tuples:\n",
    "    out_tuple=tuple(tuples)\n",
    "    print(out_tuple)\n",
    "   \n",
    "    \n",
    "    "
   ]
  },
  {
   "cell_type": "code",
   "execution_count": 6,
   "metadata": {},
   "outputs": [],
   "source": [
    "def add_1(x):\n",
    "    return x\n"
   ]
  }
 ],
 "metadata": {
  "kernelspec": {
   "display_name": "Python 3",
   "language": "python",
   "name": "python3"
  },
  "language_info": {
   "codemirror_mode": {
    "name": "ipython",
    "version": 3
   },
   "file_extension": ".py",
   "mimetype": "text/x-python",
   "name": "python",
   "nbconvert_exporter": "python",
   "pygments_lexer": "ipython3",
   "version": "3.12.4"
  }
 },
 "nbformat": 4,
 "nbformat_minor": 2
}
